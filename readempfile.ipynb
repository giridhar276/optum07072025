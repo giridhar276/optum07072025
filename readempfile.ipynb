{
 "cells": [
  {
   "cell_type": "code",
   "execution_count": null,
   "id": "2908e1ee",
   "metadata": {},
   "outputs": [],
   "source": [
    "import pandas as pd"
   ]
  },
  {
   "cell_type": "code",
   "execution_count": null,
   "id": "367bffc4",
   "metadata": {},
   "outputs": [],
   "source": [
    "df = pd.read_csv(\"employee.csv\")"
   ]
  },
  {
   "cell_type": "code",
   "execution_count": null,
   "id": "72486e36",
   "metadata": {},
   "outputs": [],
   "source": [
    "type(df)"
   ]
  },
  {
   "cell_type": "code",
   "execution_count": null,
   "id": "61931c35",
   "metadata": {},
   "outputs": [],
   "source": [
    "df"
   ]
  },
  {
   "cell_type": "code",
   "execution_count": null,
   "id": "bb18c483",
   "metadata": {},
   "outputs": [],
   "source": [
    "# display first 10 row\n",
    "df.head(10)"
   ]
  },
  {
   "cell_type": "code",
   "execution_count": null,
   "id": "2e1b0ad6",
   "metadata": {},
   "outputs": [],
   "source": [
    "# dsiplay last 10 rows\n",
    "df.tail(10)"
   ]
  },
  {
   "cell_type": "code",
   "execution_count": null,
   "id": "f50dc883",
   "metadata": {},
   "outputs": [],
   "source": [
    "#dsiplaying information about dataframe\n",
    "df.info()"
   ]
  },
  {
   "cell_type": "code",
   "execution_count": null,
   "id": "bdb8c092",
   "metadata": {},
   "outputs": [],
   "source": [
    "# display dataypes\n",
    "df.dtypes"
   ]
  },
  {
   "cell_type": "code",
   "execution_count": null,
   "id": "3e066469",
   "metadata": {},
   "outputs": [],
   "source": [
    "df.describe()  # defaulting to numericaL columns only"
   ]
  },
  {
   "cell_type": "code",
   "execution_count": null,
   "id": "40d529cb",
   "metadata": {},
   "outputs": [],
   "source": [
    "df.describe(include='all')"
   ]
  },
  {
   "cell_type": "code",
   "execution_count": null,
   "id": "e493fdeb",
   "metadata": {},
   "outputs": [],
   "source": [
    "# display rows,columns\n",
    "df.shape"
   ]
  },
  {
   "cell_type": "code",
   "execution_count": null,
   "id": "2383c0ab",
   "metadata": {},
   "outputs": [],
   "source": [
    "# display one particular column\n",
    "df['workclass']\n"
   ]
  },
  {
   "cell_type": "code",
   "execution_count": null,
   "id": "bab21683",
   "metadata": {},
   "outputs": [],
   "source": [
    "# display more columns\n",
    "df[['workclass','education','age']]"
   ]
  },
  {
   "cell_type": "code",
   "execution_count": null,
   "id": "b007edf7",
   "metadata": {},
   "outputs": [],
   "source": [
    "df[['workclass','education']].to_csv(\"finaloutput.csv\")"
   ]
  },
  {
   "cell_type": "code",
   "execution_count": null,
   "id": "820f36ed",
   "metadata": {},
   "outputs": [],
   "source": [
    "df.head(10).to_excel(\"top10records.xlsx\")"
   ]
  },
  {
   "cell_type": "code",
   "execution_count": null,
   "id": "91a8839a",
   "metadata": {},
   "outputs": [],
   "source": [
    "condition = df['workclass'] == ' Private'\n",
    "df[condition]"
   ]
  },
  {
   "cell_type": "code",
   "execution_count": null,
   "id": "af6aefa7",
   "metadata": {},
   "outputs": [],
   "source": [
    "cond = df['workclass'].str.strip() == 'Private'\n",
    "df[cond]"
   ]
  },
  {
   "cell_type": "code",
   "execution_count": null,
   "id": "a6ffdf5b",
   "metadata": {},
   "outputs": [],
   "source": [
    "df[df['workclass'].str.strip() == 'Private']"
   ]
  },
  {
   "cell_type": "code",
   "execution_count": null,
   "id": "84327379",
   "metadata": {},
   "outputs": [],
   "source": [
    "# two conditions\n",
    "# df[(cond1) & (cond2)]\n",
    "\n",
    "cond1 = df['workclass'] == ' Private'\n",
    "cond2 = df['education'] == ' Bachelors'\n",
    "\n",
    "df[cond1 &  cond2]"
   ]
  },
  {
   "cell_type": "code",
   "execution_count": null,
   "id": "29c1a4cf",
   "metadata": {},
   "outputs": [],
   "source": [
    "df[(df['workclass'] == ' Private') & (df['education'] == ' Bachelors')]"
   ]
  },
  {
   "cell_type": "code",
   "execution_count": null,
   "id": "8b42d923",
   "metadata": {},
   "outputs": [],
   "source": [
    "#df.iloc[rows,columns]\n",
    "df.iloc[3:10 ]   # display from 3rd to 9th row  and all the columns"
   ]
  },
  {
   "cell_type": "code",
   "execution_count": null,
   "id": "d97d0c60",
   "metadata": {},
   "outputs": [],
   "source": [
    "df.iloc[3:10 , 3:6]    #   3-9 rows and 3-5 columns"
   ]
  },
  {
   "cell_type": "code",
   "execution_count": null,
   "id": "3dd4d695",
   "metadata": {},
   "outputs": [],
   "source": [
    "#df.loc[rows,columns]\n",
    "df.loc[3:10]"
   ]
  },
  {
   "cell_type": "code",
   "execution_count": null,
   "id": "a143ae91",
   "metadata": {},
   "outputs": [],
   "source": [
    "df.loc[3:10 , \"workclass\":\"education\"]"
   ]
  },
  {
   "cell_type": "code",
   "execution_count": null,
   "id": "e28704a9",
   "metadata": {},
   "outputs": [],
   "source": [
    "df.loc[3:10 , [\"workclass\",\"education\"]]"
   ]
  },
  {
   "cell_type": "code",
   "execution_count": null,
   "id": "083d06ea",
   "metadata": {},
   "outputs": [],
   "source": [
    "df.shape"
   ]
  },
  {
   "cell_type": "code",
   "execution_count": null,
   "id": "ea929c5b",
   "metadata": {},
   "outputs": [],
   "source": [
    "df.drop_duplicates()  # will display all unique rows"
   ]
  },
  {
   "cell_type": "code",
   "execution_count": null,
   "id": "d7c6a5eb",
   "metadata": {},
   "outputs": [],
   "source": [
    "df.drop_duplicates().shape   # dsiplay the (rows,columns)"
   ]
  },
  {
   "cell_type": "code",
   "execution_count": null,
   "id": "4356d504",
   "metadata": {},
   "outputs": [],
   "source": [
    "df[df.duplicated()]  # dsiplay duplicated records only"
   ]
  },
  {
   "cell_type": "code",
   "execution_count": null,
   "id": "b72687d2",
   "metadata": {},
   "outputs": [],
   "source": [
    "# sorting the dataframe\n",
    "df.sort_values('age') # ascending order\n"
   ]
  },
  {
   "cell_type": "code",
   "execution_count": null,
   "id": "14b5f321",
   "metadata": {},
   "outputs": [],
   "source": [
    "df.sort_values('age',ascending=False)  #  descending order"
   ]
  },
  {
   "cell_type": "code",
   "execution_count": null,
   "id": "65ca325e",
   "metadata": {},
   "outputs": [],
   "source": [
    "df.sample(frac=0.5) # display 5% of the records randomly\n",
    "# df.sample(n=10)  # diplay 10 records"
   ]
  },
  {
   "cell_type": "code",
   "execution_count": null,
   "id": "fd7a5390",
   "metadata": {},
   "outputs": [],
   "source": [
    "df.dropna()   # drop rows with any column having Null values"
   ]
  },
  {
   "cell_type": "code",
   "execution_count": null,
   "id": "8ddd035e",
   "metadata": {},
   "outputs": [],
   "source": [
    "df.fillna(0)  # replace all Null values with value"
   ]
  },
  {
   "cell_type": "code",
   "execution_count": null,
   "id": "1c541c02",
   "metadata": {},
   "outputs": [],
   "source": [
    "df.isnull().sum()"
   ]
  },
  {
   "cell_type": "code",
   "execution_count": null,
   "id": "88dfb9f0",
   "metadata": {},
   "outputs": [],
   "source": [
    "df['workclass'].unique()  # display unique cells from workclass"
   ]
  },
  {
   "cell_type": "code",
   "execution_count": null,
   "id": "7d97420a",
   "metadata": {},
   "outputs": [],
   "source": [
    "df['workclass'].nunique()"
   ]
  },
  {
   "cell_type": "code",
   "execution_count": null,
   "id": "4e6433c6",
   "metadata": {},
   "outputs": [],
   "source": [
    "len(df['workclass'].unique())"
   ]
  },
  {
   "cell_type": "code",
   "execution_count": null,
   "id": "594812e6",
   "metadata": {},
   "outputs": [],
   "source": [
    "df['workclass'].value_counts()"
   ]
  },
  {
   "cell_type": "code",
   "execution_count": null,
   "id": "fdb01a97",
   "metadata": {},
   "outputs": [],
   "source": [
    "# group by education and find average hours per week\n",
    "\n",
    "df.groupby('education')['hours-per-week'].mean()"
   ]
  },
  {
   "cell_type": "code",
   "execution_count": null,
   "id": "cec9f32e",
   "metadata": {},
   "outputs": [],
   "source": [
    "# group by marital-status and get the income based on status\n",
    "df.groupby('marital-status')['income'].value_counts()"
   ]
  },
  {
   "cell_type": "code",
   "execution_count": null,
   "id": "3c85f147",
   "metadata": {},
   "outputs": [],
   "source": [
    "# group by occupation and gender and then calculate average age\n",
    "df.groupby(['occupation','gender'])['age'].mean()"
   ]
  },
  {
   "cell_type": "code",
   "execution_count": null,
   "id": "af95eb36",
   "metadata": {},
   "outputs": [],
   "source": [
    "# group by gender and count no. of rows\n",
    "df.groupby('gender').size()"
   ]
  },
  {
   "cell_type": "code",
   "execution_count": null,
   "id": "a46ac2dc",
   "metadata": {},
   "outputs": [],
   "source": [
    "df['gender'].value_counts()"
   ]
  },
  {
   "cell_type": "code",
   "execution_count": null,
   "id": "e4ccf840",
   "metadata": {},
   "outputs": [],
   "source": [
    "df1 = df.head()  # first 5 records\n",
    "df2 = df.tail()  # last 5 records\n",
    "\n",
    "finaldf = pd.concat([df1,df2])\n",
    "finaldf = finaldf.reset_index()\n",
    "finaldf"
   ]
  },
  {
   "cell_type": "code",
   "execution_count": null,
   "id": "300eec31",
   "metadata": {},
   "outputs": [],
   "source": [
    "df1 = df[['age','gender','education']]\n",
    "df2 = df[['hours-per-week','occupation','income']]\n",
    "\n",
    "finaldf = pd.concat([df1,df2],axis=1)  # if we axis=1 means it is column wise operation\n",
    "finaldf"
   ]
  },
  {
   "cell_type": "code",
   "execution_count": null,
   "id": "d8a6db1b",
   "metadata": {},
   "outputs": [],
   "source": [
    "# merge in pandas ( joins in sql)\n",
    "df1 = df[['age','gender']]\n",
    "df2 = df[['gender','occupation']]\n",
    "\n",
    "#pd.merge(df1,df2 , on ='gender', how='inner')"
   ]
  },
  {
   "cell_type": "code",
   "execution_count": null,
   "id": "7f7de9e7",
   "metadata": {},
   "outputs": [],
   "source": [
    "df['education'].value_counts().plot(kind = 'bar')"
   ]
  },
  {
   "cell_type": "code",
   "execution_count": null,
   "id": "a1d3849b",
   "metadata": {},
   "outputs": [],
   "source": [
    "import matplotlib.pyplot as plt\n",
    "educounts = df['education'].value_counts()\n",
    "\n",
    "plt.figure(figsize=(10,5))\n",
    "plt.bar(educounts.index,educounts , color = 'skyblue')\n",
    "plt.title('Education distrubtion')\n",
    "plt.xlabel('education')\n",
    "plt.ylabel('count')\n",
    "#plt.show()\n",
    "plt.savefig('finaloutput.jpg')"
   ]
  },
  {
   "cell_type": "code",
   "execution_count": null,
   "id": "33000d26",
   "metadata": {},
   "outputs": [],
   "source": []
  }
 ],
 "metadata": {
  "kernelspec": {
   "display_name": "base",
   "language": "python",
   "name": "python3"
  },
  "language_info": {
   "codemirror_mode": {
    "name": "ipython",
    "version": 3
   },
   "file_extension": ".py",
   "mimetype": "text/x-python",
   "name": "python",
   "nbconvert_exporter": "python",
   "pygments_lexer": "ipython3",
   "version": "3.11.5"
  }
 },
 "nbformat": 4,
 "nbformat_minor": 5
}
