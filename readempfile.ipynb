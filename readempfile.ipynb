{
 "cells": [
  {
   "cell_type": "code",
   "execution_count": null,
   "id": "2908e1ee",
   "metadata": {},
   "outputs": [],
   "source": [
    "import pandas as pd"
   ]
  },
  {
   "cell_type": "code",
   "execution_count": null,
   "id": "367bffc4",
   "metadata": {},
   "outputs": [],
   "source": [
    "df = pd.read_csv(\"employee.csv\")"
   ]
  },
  {
   "cell_type": "code",
   "execution_count": null,
   "id": "72486e36",
   "metadata": {},
   "outputs": [],
   "source": [
    "type(df)"
   ]
  },
  {
   "cell_type": "code",
   "execution_count": null,
   "id": "61931c35",
   "metadata": {},
   "outputs": [],
   "source": [
    "df"
   ]
  },
  {
   "cell_type": "code",
   "execution_count": null,
   "id": "bb18c483",
   "metadata": {},
   "outputs": [],
   "source": [
    "# display first 10 row\n",
    "df.head(10)"
   ]
  },
  {
   "cell_type": "code",
   "execution_count": null,
   "id": "2e1b0ad6",
   "metadata": {},
   "outputs": [],
   "source": [
    "# dsiplay last 10 rows\n",
    "df.tail(10)"
   ]
  },
  {
   "cell_type": "code",
   "execution_count": null,
   "id": "f50dc883",
   "metadata": {},
   "outputs": [],
   "source": [
    "#dsiplaying information about dataframe\n",
    "df.info()"
   ]
  },
  {
   "cell_type": "code",
   "execution_count": null,
   "id": "bdb8c092",
   "metadata": {},
   "outputs": [],
   "source": [
    "# display dataypes\n",
    "df.dtypes"
   ]
  },
  {
   "cell_type": "code",
   "execution_count": null,
   "id": "3e066469",
   "metadata": {},
   "outputs": [],
   "source": [
    "df.describe()  # defaulting to numericaL columns only"
   ]
  },
  {
   "cell_type": "code",
   "execution_count": null,
   "id": "40d529cb",
   "metadata": {},
   "outputs": [],
   "source": [
    "df.describe(include='all')"
   ]
  },
  {
   "cell_type": "code",
   "execution_count": null,
   "id": "e493fdeb",
   "metadata": {},
   "outputs": [],
   "source": [
    "# display rows,columns\n",
    "df.shape"
   ]
  },
  {
   "cell_type": "code",
   "execution_count": null,
   "id": "2383c0ab",
   "metadata": {},
   "outputs": [],
   "source": [
    "# display one particular column\n",
    "df['workclass']\n"
   ]
  },
  {
   "cell_type": "code",
   "execution_count": null,
   "id": "bab21683",
   "metadata": {},
   "outputs": [],
   "source": [
    "# display more columns\n",
    "df[['workclass','education','age']]"
   ]
  },
  {
   "cell_type": "code",
   "execution_count": null,
   "id": "b007edf7",
   "metadata": {},
   "outputs": [],
   "source": [
    "df[['workclass','education']].to_csv(\"finaloutput.csv\")"
   ]
  },
  {
   "cell_type": "code",
   "execution_count": null,
   "id": "820f36ed",
   "metadata": {},
   "outputs": [],
   "source": [
    "df.head(10).to_excel(\"top10records.xlsx\")"
   ]
  },
  {
   "cell_type": "code",
   "execution_count": null,
   "id": "91a8839a",
   "metadata": {},
   "outputs": [],
   "source": [
    "condition = df['workclass'] == ' Private'\n",
    "df[condition]"
   ]
  },
  {
   "cell_type": "code",
   "execution_count": null,
   "id": "af6aefa7",
   "metadata": {},
   "outputs": [],
   "source": [
    "cond = df['workclass'].str.strip() == 'Private'\n",
    "df[cond]"
   ]
  },
  {
   "cell_type": "code",
   "execution_count": null,
   "id": "a6ffdf5b",
   "metadata": {},
   "outputs": [],
   "source": [
    "df[df['workclass'].str.strip() == 'Private']"
   ]
  },
  {
   "cell_type": "code",
   "execution_count": null,
   "id": "84327379",
   "metadata": {},
   "outputs": [],
   "source": [
    "# two conditions\n",
    "# df[(cond1) & (cond2)]\n",
    "\n",
    "cond1 = df['workclass'] == ' Private'\n",
    "cond2 = df['education'] == ' Bachelors'\n",
    "\n",
    "df[cond1 &  cond2]"
   ]
  },
  {
   "cell_type": "code",
   "execution_count": null,
   "id": "29c1a4cf",
   "metadata": {},
   "outputs": [],
   "source": [
    "df[(df['workclass'] == ' Private') & (df['education'] == ' Bachelors')]"
   ]
  },
  {
   "cell_type": "code",
   "execution_count": null,
   "id": "8b42d923",
   "metadata": {},
   "outputs": [],
   "source": [
    "#df.iloc[rows,columns]\n",
    "df.iloc[3:10 ]   # display from 3rd to 9th row  and all the columns"
   ]
  },
  {
   "cell_type": "code",
   "execution_count": null,
   "id": "d97d0c60",
   "metadata": {},
   "outputs": [],
   "source": [
    "df.iloc[3:10 , 3:6]    #   3-9 rows and 3-5 columns"
   ]
  },
  {
   "cell_type": "code",
   "execution_count": null,
   "id": "3dd4d695",
   "metadata": {},
   "outputs": [],
   "source": [
    "#df.loc[rows,columns]\n",
    "df.loc[3:10]"
   ]
  },
  {
   "cell_type": "code",
   "execution_count": null,
   "id": "a143ae91",
   "metadata": {},
   "outputs": [],
   "source": [
    "df.loc[3:10 , \"workclass\":\"education\"]"
   ]
  },
  {
   "cell_type": "code",
   "execution_count": null,
   "id": "e28704a9",
   "metadata": {},
   "outputs": [],
   "source": [
    "df.loc[3:10 , [\"workclass\",\"education\"]]"
   ]
  },
  {
   "cell_type": "code",
   "execution_count": null,
   "id": "083d06ea",
   "metadata": {},
   "outputs": [],
   "source": [
    "df.shape"
   ]
  },
  {
   "cell_type": "code",
   "execution_count": null,
   "id": "ea929c5b",
   "metadata": {},
   "outputs": [],
   "source": [
    "df.drop_duplicates()  # will display all unique rows"
   ]
  },
  {
   "cell_type": "code",
   "execution_count": null,
   "id": "d7c6a5eb",
   "metadata": {},
   "outputs": [],
   "source": [
    "df.drop_duplicates().shape   # dsiplay the (rows,columns)"
   ]
  },
  {
   "cell_type": "code",
   "execution_count": null,
   "id": "4356d504",
   "metadata": {},
   "outputs": [],
   "source": [
    "df[df.duplicated()]  # dsiplay duplicated records only"
   ]
  },
  {
   "cell_type": "code",
   "execution_count": null,
   "id": "b72687d2",
   "metadata": {},
   "outputs": [],
   "source": [
    "# sorting the dataframe\n",
    "df.sort_values('age') # ascending order\n"
   ]
  },
  {
   "cell_type": "code",
   "execution_count": null,
   "id": "14b5f321",
   "metadata": {},
   "outputs": [],
   "source": [
    "df.sort_values('age',ascending=False)  #  descending order"
   ]
  },
  {
   "cell_type": "code",
   "execution_count": null,
   "id": "65ca325e",
   "metadata": {},
   "outputs": [],
   "source": [
    "df.sample(frac=0.5) # display 5% of the records randomly\n",
    "# df.sample(n=10)  # diplay 10 records"
   ]
  },
  {
   "cell_type": "code",
   "execution_count": null,
   "id": "fd7a5390",
   "metadata": {},
   "outputs": [],
   "source": [
    "df.dropna()   # drop rows with any column having Null values"
   ]
  },
  {
   "cell_type": "code",
   "execution_count": null,
   "id": "8ddd035e",
   "metadata": {},
   "outputs": [],
   "source": [
    "df.fillna(0)  # replace all Null values with value"
   ]
  },
  {
   "cell_type": "code",
   "execution_count": null,
   "id": "1c541c02",
   "metadata": {},
   "outputs": [],
   "source": [
    "df.isnull().sum()"
   ]
  },
  {
   "cell_type": "code",
   "execution_count": null,
   "id": "88dfb9f0",
   "metadata": {},
   "outputs": [],
   "source": [
    "df['workclass'].unique()  # display unique cells from workclass"
   ]
  },
  {
   "cell_type": "code",
   "execution_count": null,
   "id": "7d97420a",
   "metadata": {},
   "outputs": [],
   "source": [
    "df['workclass'].nunique()"
   ]
  },
  {
   "cell_type": "code",
   "execution_count": null,
   "id": "4e6433c6",
   "metadata": {},
   "outputs": [],
   "source": [
    "len(df['workclass'].unique())"
   ]
  },
  {
   "cell_type": "code",
   "execution_count": null,
   "id": "594812e6",
   "metadata": {},
   "outputs": [],
   "source": [
    "df['workclass'].value_counts()"
   ]
  },
  {
   "cell_type": "code",
   "execution_count": null,
   "id": "fdb01a97",
   "metadata": {},
   "outputs": [],
   "source": [
    "# group by education and find average hours per week\n",
    "\n",
    "df.groupby('education')['hours-per-week'].mean()"
   ]
  },
  {
   "cell_type": "code",
   "execution_count": null,
   "id": "cec9f32e",
   "metadata": {},
   "outputs": [],
   "source": [
    "# group by marital-status and get the income based on status\n",
    "df.groupby('marital-status')['income'].value_counts()"
   ]
  },
  {
   "cell_type": "code",
   "execution_count": null,
   "id": "3c85f147",
   "metadata": {},
   "outputs": [],
   "source": [
    "# group by occupation and gender and then calculate average age\n",
    "df.groupby(['occupation','gender'])['age'].mean()"
   ]
  },
  {
   "cell_type": "code",
   "execution_count": null,
   "id": "af95eb36",
   "metadata": {},
   "outputs": [],
   "source": [
    "# group by gender and count no. of rows\n",
    "df.groupby('gender').size()"
   ]
  },
  {
   "cell_type": "code",
   "execution_count": null,
   "id": "a46ac2dc",
   "metadata": {},
   "outputs": [],
   "source": [
    "df['gender'].value_counts()"
   ]
  },
  {
   "cell_type": "code",
   "execution_count": null,
   "id": "e4ccf840",
   "metadata": {},
   "outputs": [],
   "source": [
    "df1 = df.head()  # first 5 records\n",
    "df2 = df.tail()  # last 5 records\n",
    "\n",
    "finaldf = pd.concat([df1,df2])\n",
    "finaldf = finaldf.reset_index()\n",
    "finaldf"
   ]
  },
  {
   "cell_type": "code",
   "execution_count": null,
   "id": "300eec31",
   "metadata": {},
   "outputs": [],
   "source": [
    "df1 = df[['age','gender','education']]\n",
    "df2 = df[['hours-per-week','occupation','income']]\n",
    "\n",
    "finaldf = pd.concat([df1,df2],axis=1)  # if we axis=1 means it is column wise operation\n",
    "finaldf"
   ]
  },
  {
   "cell_type": "code",
   "execution_count": null,
   "id": "d8a6db1b",
   "metadata": {},
   "outputs": [],
   "source": [
    "# merge in pandas ( joins in sql)\n",
    "df1 = df[['age','gender']]\n",
    "df2 = df[['gender','occupation']]\n",
    "\n",
    "#pd.merge(df1,df2 , on ='gender', how='inner')"
   ]
  },
  {
   "cell_type": "code",
   "execution_count": null,
   "id": "7f7de9e7",
   "metadata": {},
   "outputs": [],
   "source": [
    "df['education'].value_counts().plot(kind = 'bar')"
   ]
  },
  {
   "cell_type": "code",
   "execution_count": null,
   "id": "a1d3849b",
   "metadata": {},
   "outputs": [],
   "source": [
    "import matplotlib.pyplot as plt\n",
    "educounts = df['education'].value_counts()\n",
    "\n",
    "plt.figure(figsize=(10,5))\n",
    "plt.bar(educounts.index,educounts , color = 'skyblue')\n",
    "plt.title('Education distrubtion')\n",
    "plt.xlabel('education')\n",
    "plt.ylabel('count')\n",
    "#plt.show()\n",
    "plt.savefig('finaloutput.jpg')"
   ]
  },
  {
   "cell_type": "code",
   "execution_count": null,
   "id": "33000d26",
   "metadata": {},
   "outputs": [],
   "source": [
    "df"
   ]
  },
  {
   "cell_type": "code",
   "execution_count": null,
   "id": "e210aa83",
   "metadata": {},
   "outputs": [],
   "source": [
    "#df['newage'] = df['age'].apply( lambda x : x+2)\n",
    "\n",
    "df['latest education'] = df['education'].apply( lambda x : x + \" \" + \"degree\")\n",
    "df"
   ]
  },
  {
   "cell_type": "code",
   "execution_count": null,
   "id": "401b0772",
   "metadata": {},
   "outputs": [],
   "source": [
    "def addstring(x):\n",
    "    return x + \"degree\"\n",
    "\n",
    "\n",
    "df['latest education'] = df['education'].apply( addstring)\n",
    "df"
   ]
  },
  {
   "cell_type": "code",
   "execution_count": 67,
   "id": "19dfedd4",
   "metadata": {},
   "outputs": [
    {
     "data": {
      "text/plain": [
       "[15, 25, 35, 45]"
      ]
     },
     "execution_count": 67,
     "metadata": {},
     "output_type": "execute_result"
    }
   ],
   "source": [
    "alist = [10,20,30,40]\n",
    "list(map(lambda x: x+5, alist))"
   ]
  },
  {
   "cell_type": "code",
   "execution_count": 68,
   "id": "5aa0d8c8",
   "metadata": {},
   "outputs": [
    {
     "data": {
      "text/plain": [
       "0         <=50K\n",
       "1         <=50K\n",
       "2         <=50K\n",
       "3         <=50K\n",
       "4         <=50K\n",
       "          ...  \n",
       "32556     <=50K\n",
       "32557      >50K\n",
       "32558     <=50K\n",
       "32559     <=50K\n",
       "32560      >50K\n",
       "Name: income, Length: 32561, dtype: object"
      ]
     },
     "execution_count": 68,
     "metadata": {},
     "output_type": "execute_result"
    }
   ],
   "source": [
    "df['income']"
   ]
  },
  {
   "cell_type": "code",
   "execution_count": 70,
   "id": "bc43e77a",
   "metadata": {},
   "outputs": [
    {
     "data": {
      "text/html": [
       "<div>\n",
       "<style scoped>\n",
       "    .dataframe tbody tr th:only-of-type {\n",
       "        vertical-align: middle;\n",
       "    }\n",
       "\n",
       "    .dataframe tbody tr th {\n",
       "        vertical-align: top;\n",
       "    }\n",
       "\n",
       "    .dataframe thead th {\n",
       "        text-align: right;\n",
       "    }\n",
       "</style>\n",
       "<table border=\"1\" class=\"dataframe\">\n",
       "  <thead>\n",
       "    <tr style=\"text-align: right;\">\n",
       "      <th></th>\n",
       "      <th>age</th>\n",
       "      <th>workclass</th>\n",
       "      <th>fnlwgt</th>\n",
       "      <th>education</th>\n",
       "      <th>educational-num</th>\n",
       "      <th>marital-status</th>\n",
       "      <th>occupation</th>\n",
       "      <th>relationship</th>\n",
       "      <th>race</th>\n",
       "      <th>gender</th>\n",
       "      <th>capital-gain</th>\n",
       "      <th>capital-loss</th>\n",
       "      <th>hours-per-week</th>\n",
       "      <th>native-country</th>\n",
       "      <th>income</th>\n",
       "      <th>newage</th>\n",
       "      <th>latest education</th>\n",
       "      <th>income_binary</th>\n",
       "    </tr>\n",
       "  </thead>\n",
       "  <tbody>\n",
       "    <tr>\n",
       "      <th>0</th>\n",
       "      <td>39</td>\n",
       "      <td>State-gov</td>\n",
       "      <td>77516</td>\n",
       "      <td>Bachelors</td>\n",
       "      <td>13</td>\n",
       "      <td>Never-married</td>\n",
       "      <td>Adm-clerical</td>\n",
       "      <td>Not-in-family</td>\n",
       "      <td>White</td>\n",
       "      <td>Male</td>\n",
       "      <td>2174</td>\n",
       "      <td>0</td>\n",
       "      <td>40</td>\n",
       "      <td>United-States</td>\n",
       "      <td>&lt;=50K</td>\n",
       "      <td>41</td>\n",
       "      <td>Bachelorsdegree</td>\n",
       "      <td>0</td>\n",
       "    </tr>\n",
       "    <tr>\n",
       "      <th>1</th>\n",
       "      <td>50</td>\n",
       "      <td>Self-emp-not-inc</td>\n",
       "      <td>83311</td>\n",
       "      <td>Bachelors</td>\n",
       "      <td>13</td>\n",
       "      <td>Married-civ-spouse</td>\n",
       "      <td>Exec-managerial</td>\n",
       "      <td>Husband</td>\n",
       "      <td>White</td>\n",
       "      <td>Male</td>\n",
       "      <td>0</td>\n",
       "      <td>0</td>\n",
       "      <td>13</td>\n",
       "      <td>United-States</td>\n",
       "      <td>&lt;=50K</td>\n",
       "      <td>52</td>\n",
       "      <td>Bachelorsdegree</td>\n",
       "      <td>0</td>\n",
       "    </tr>\n",
       "    <tr>\n",
       "      <th>2</th>\n",
       "      <td>38</td>\n",
       "      <td>Private</td>\n",
       "      <td>215646</td>\n",
       "      <td>HS-grad</td>\n",
       "      <td>9</td>\n",
       "      <td>Divorced</td>\n",
       "      <td>Handlers-cleaners</td>\n",
       "      <td>Not-in-family</td>\n",
       "      <td>White</td>\n",
       "      <td>Male</td>\n",
       "      <td>0</td>\n",
       "      <td>0</td>\n",
       "      <td>40</td>\n",
       "      <td>United-States</td>\n",
       "      <td>&lt;=50K</td>\n",
       "      <td>40</td>\n",
       "      <td>HS-graddegree</td>\n",
       "      <td>0</td>\n",
       "    </tr>\n",
       "    <tr>\n",
       "      <th>3</th>\n",
       "      <td>53</td>\n",
       "      <td>Private</td>\n",
       "      <td>234721</td>\n",
       "      <td>11th</td>\n",
       "      <td>7</td>\n",
       "      <td>Married-civ-spouse</td>\n",
       "      <td>Handlers-cleaners</td>\n",
       "      <td>Husband</td>\n",
       "      <td>Black</td>\n",
       "      <td>Male</td>\n",
       "      <td>0</td>\n",
       "      <td>0</td>\n",
       "      <td>40</td>\n",
       "      <td>United-States</td>\n",
       "      <td>&lt;=50K</td>\n",
       "      <td>55</td>\n",
       "      <td>11thdegree</td>\n",
       "      <td>0</td>\n",
       "    </tr>\n",
       "    <tr>\n",
       "      <th>4</th>\n",
       "      <td>28</td>\n",
       "      <td>Private</td>\n",
       "      <td>338409</td>\n",
       "      <td>Bachelors</td>\n",
       "      <td>13</td>\n",
       "      <td>Married-civ-spouse</td>\n",
       "      <td>Prof-specialty</td>\n",
       "      <td>Wife</td>\n",
       "      <td>Black</td>\n",
       "      <td>Female</td>\n",
       "      <td>0</td>\n",
       "      <td>0</td>\n",
       "      <td>40</td>\n",
       "      <td>Cuba</td>\n",
       "      <td>&lt;=50K</td>\n",
       "      <td>30</td>\n",
       "      <td>Bachelorsdegree</td>\n",
       "      <td>0</td>\n",
       "    </tr>\n",
       "  </tbody>\n",
       "</table>\n",
       "</div>"
      ],
      "text/plain": [
       "   age          workclass  fnlwgt   education  educational-num  \\\n",
       "0   39          State-gov   77516   Bachelors               13   \n",
       "1   50   Self-emp-not-inc   83311   Bachelors               13   \n",
       "2   38            Private  215646     HS-grad                9   \n",
       "3   53            Private  234721        11th                7   \n",
       "4   28            Private  338409   Bachelors               13   \n",
       "\n",
       "        marital-status          occupation    relationship    race   gender  \\\n",
       "0        Never-married        Adm-clerical   Not-in-family   White     Male   \n",
       "1   Married-civ-spouse     Exec-managerial         Husband   White     Male   \n",
       "2             Divorced   Handlers-cleaners   Not-in-family   White     Male   \n",
       "3   Married-civ-spouse   Handlers-cleaners         Husband   Black     Male   \n",
       "4   Married-civ-spouse      Prof-specialty            Wife   Black   Female   \n",
       "\n",
       "   capital-gain  capital-loss  hours-per-week  native-country  income  newage  \\\n",
       "0          2174             0              40   United-States   <=50K      41   \n",
       "1             0             0              13   United-States   <=50K      52   \n",
       "2             0             0              40   United-States   <=50K      40   \n",
       "3             0             0              40   United-States   <=50K      55   \n",
       "4             0             0              40            Cuba   <=50K      30   \n",
       "\n",
       "   latest education  income_binary  \n",
       "0   Bachelorsdegree              0  \n",
       "1   Bachelorsdegree              0  \n",
       "2     HS-graddegree              0  \n",
       "3        11thdegree              0  \n",
       "4   Bachelorsdegree              0  "
      ]
     },
     "execution_count": 70,
     "metadata": {},
     "output_type": "execute_result"
    }
   ],
   "source": [
    "df['income_binary'] = df['income'].map({' <=50K':0 , ' >50K':1})\n",
    "df.head()"
   ]
  },
  {
   "cell_type": "code",
   "execution_count": null,
   "id": "66be2f12",
   "metadata": {},
   "outputs": [],
   "source": []
  }
 ],
 "metadata": {
  "kernelspec": {
   "display_name": "base",
   "language": "python",
   "name": "python3"
  },
  "language_info": {
   "codemirror_mode": {
    "name": "ipython",
    "version": 3
   },
   "file_extension": ".py",
   "mimetype": "text/x-python",
   "name": "python",
   "nbconvert_exporter": "python",
   "pygments_lexer": "ipython3",
   "version": "3.11.5"
  }
 },
 "nbformat": 4,
 "nbformat_minor": 5
}
